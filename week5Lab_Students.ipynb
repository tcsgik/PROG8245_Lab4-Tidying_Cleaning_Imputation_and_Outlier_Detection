{
 "cells": [
  {
   "attachments": {},
   "cell_type": "markdown",
   "metadata": {},
   "source": [
    "# **Tidying**"
   ]
  },
  {
   "attachments": {},
   "cell_type": "markdown",
   "metadata": {},
   "source": [
    "Part of the data engineering process is data cleaning and tidying. What is done in those two processes, is trying to make the data more readable, and complete. This makes much easier to analyze, visualize, and train the data.\n"
   ]
  },
  {
   "attachments": {},
   "cell_type": "markdown",
   "metadata": {},
   "source": [
    "## **Data Tidying**\n",
    "\n",
    "Making the data more organized, and readable is the result of applying data tidying. \n",
    "\n",
    "In this section two main pandas functions are used in data tidying those are `melt` and `pivot_table`."
   ]
  },
  {
   "attachments": {},
   "cell_type": "markdown",
   "metadata": {},
   "source": [
    "Let's start by taking a look at the below dataframe, which represents the income ranges based on religion. This is part of the PEW research, which is famous in the US for conducting pollings and surveys on citizens.\n",
    "\n",
    "When the following are satisfied:\n",
    "\n",
    "\n",
    "1. Each variable forms a column\n",
    "2. Each observation forms a row\n",
    "3. Each type of observational unit forms a table\n",
    "\n",
    "We can then say that our dataset is *tidy*.\n",
    "\n",
    "First we need to import pandas to read csv datasets."
   ]
  },
  {
   "cell_type": "code",
   "execution_count": 321,
   "metadata": {},
   "outputs": [],
   "source": [
    "# Import libraries\n",
    "import pandas as pd"
   ]
  },
  {
   "cell_type": "code",
   "execution_count": 322,
   "metadata": {},
   "outputs": [],
   "source": [
    "# Read CSV file\n",
    "df_pew_research = pd.read_csv(\"data/pew-raw.csv\")"
   ]
  },
  {
   "attachments": {},
   "cell_type": "markdown",
   "metadata": {},
   "source": [
    "### **PEW Research Dataset**"
   ]
  },
  {
   "attachments": {},
   "cell_type": "markdown",
   "metadata": {},
   "source": [
    "1. Start by Importing the dataset into a pandas dataframe."
   ]
  },
  {
   "cell_type": "code",
   "execution_count": 323,
   "metadata": {},
   "outputs": [
    {
     "name": "stdout",
     "output_type": "stream",
     "text": [
      "Display first three rows:\n",
      "   religion   <$10k   $10-20k  $20-30k  $30-40k   $40-50k  $50-75k\n",
      "0  Agnostic      27        34       60       81        76      137\n",
      "1   Atheist      12        27       37       52        35       70\n",
      "2  Buddhist      27        21       30       34        33       58\n"
     ]
    }
   ],
   "source": [
    "# Display the DataFrame\n",
    "print(\"Display first three rows:\")\n",
    "print(df_pew_research.head(3))"
   ]
  },
  {
   "attachments": {},
   "cell_type": "markdown",
   "metadata": {},
   "source": [
    "2. Observe the dataset using the `loc`, `iloc`, `head`, or `tail` approaches"
   ]
  },
  {
   "cell_type": "code",
   "execution_count": 324,
   "metadata": {},
   "outputs": [
    {
     "name": "stdout",
     "output_type": "stream",
     "text": [
      "Using head() to display DataFrame:\n",
      "            religion   <$10k   $10-20k  $20-30k  $30-40k   $40-50k  $50-75k\n",
      "0           Agnostic      27        34       60       81        76      137\n",
      "1            Atheist      12        27       37       52        35       70\n",
      "2           Buddhist      27        21       30       34        33       58\n",
      "3           Catholic     418       617      732      670       638     1116\n",
      "4  Dont know/refused      15        14       15       11        10       35\n",
      "\n",
      "\n",
      "Using tail() to display DataFrame:\n",
      "                   religion   <$10k   $10-20k  $20-30k  $30-40k   $40-50k  \\\n",
      "5         Evangelical Prot      575       869     1064      982       881   \n",
      "6                    Hindu        1         9        7        9        11   \n",
      "7  Historically Black Prot      228       244      236      238       197   \n",
      "8         Jehovahs Witness       20        27       24       24        21   \n",
      "9                   Jewish       19        19       25       25        30   \n",
      "\n",
      "   $50-75k  \n",
      "5     1486  \n",
      "6       34  \n",
      "7      223  \n",
      "8       30  \n",
      "9       95  \n",
      "\n",
      "\n",
      "Using iloc() to display DataFrame:\n",
      "Select rows 2 to 4 (excluding row 5):\n",
      "   religion   <$10k   $10-20k  $20-30k  $30-40k   $40-50k  $50-75k\n",
      "1   Atheist      12        27       37       52        35       70\n",
      "2  Buddhist      27        21       30       34        33       58\n",
      "3  Catholic     418       617      732      670       638     1116\n",
      "Select row 1 and row 3:\n",
      "   religion   <$10k   $10-20k  $20-30k  $30-40k   $40-50k  $50-75k\n",
      "0  Agnostic      27        34       60       81        76      137\n",
      "2  Buddhist      27        21       30       34        33       58\n",
      "Select rows 1 to 3, columns 2 to 4:\n",
      "    <$10k   $10-20k  $20-30k\n",
      "0      27        34       60\n",
      "1      12        27       37\n",
      "2      27        21       30\n",
      "\n",
      "\n",
      "Using loc() to display DataFrame:\n",
      "Select the 'Agnostic' row:\n",
      "   religion   <$10k   $10-20k  $20-30k  $30-40k   $40-50k  $50-75k\n",
      "0  Agnostic      27        34       60       81        76      137\n",
      "Select specific rows and columns:\n",
      "   $20-30k  $30-40k\n",
      "0       60       81\n",
      "1       37       52\n",
      "2       30       34\n"
     ]
    }
   ],
   "source": [
    "# Using head() to display the DataFrame\n",
    "print(\"Using head() to display DataFrame:\")\n",
    "print(df_pew_research.head())\n",
    "print(\"\\n\")\n",
    "\n",
    "# Using tail() to display the DataFrame\n",
    "print(\"Using tail() to display DataFrame:\")\n",
    "print(df_pew_research.tail())\n",
    "print(\"\\n\")\n",
    "\n",
    "# Using iloc() to display the DataFrame\n",
    "print(\"Using iloc() to display DataFrame:\")\n",
    "print(\"Select rows 2 to 4 (excluding row 5):\")\n",
    "print(df_pew_research.iloc[1:4])\n",
    "print(\"Select row 1 and row 3:\")\n",
    "print(df_pew_research.iloc[[0,2]])\n",
    "print(\"Select rows 1 to 3, columns 2 to 4:\")\n",
    "print(df_pew_research.iloc[0:3, 1:4])\n",
    "print(\"\\n\")\n",
    "\n",
    "# Using loc() to display the DataFrame\n",
    "print(\"Using loc() to display DataFrame:\")\n",
    "print(\"Select the 'Agnostic' row:\")\n",
    "print(df_pew_research.loc[df_pew_research['religion'] == 'Agnostic'])\n",
    "print(\"Select specific rows and columns:\")\n",
    "print(df_pew_research.loc[0:2, '$20-30k':'$30-40k'])"
   ]
  },
  {
   "cell_type": "markdown",
   "metadata": {},
   "source": [
    "Summary:\n",
    "- Use `head` to quickly view the head data\n",
    "- Use `tail` to quickly view the tail data\n",
    "- Use `iloc` to select data by position\n",
    "- Use `loc` to select data by label"
   ]
  },
  {
   "attachments": {},
   "cell_type": "markdown",
   "metadata": {},
   "source": [
    "***What does not seem right in the above dataframe?***"
   ]
  },
  {
   "cell_type": "markdown",
   "metadata": {},
   "source": [
    "The pew-raw.csv column names is <$10k, $10-20k, $20-30k, etc. That can impact some problems, like \n",
    "\n",
    "(1) The income ranges are \"values\" rather than \"variables\".\n",
    "\n",
    "(2) The data structure is not convenient for data analysis and processing."
   ]
  },
  {
   "attachments": {},
   "cell_type": "markdown",
   "metadata": {},
   "source": [
    "3. Try to make the column headers represent a variable not a value. For that, use the `melt` function."
   ]
  },
  {
   "cell_type": "code",
   "execution_count": 325,
   "metadata": {},
   "outputs": [
    {
     "name": "stdout",
     "output_type": "stream",
     "text": [
      "Tidy DataFrame:\n",
      "                    religion    income  count\n",
      "0                   Agnostic     <$10k     27\n",
      "1                    Atheist     <$10k     12\n",
      "2                   Buddhist     <$10k     27\n",
      "3                   Catholic     <$10k    418\n",
      "4          Dont know/refused     <$10k     15\n",
      "5          Evangelical Prot      <$10k    575\n",
      "6                     Hindu      <$10k      1\n",
      "7   Historically Black Prot      <$10k    228\n",
      "8          Jehovahs Witness      <$10k     20\n",
      "9                    Jewish      <$10k     19\n",
      "10                  Agnostic   $10-20k     34\n",
      "11                   Atheist   $10-20k     27\n",
      "12                  Buddhist   $10-20k     21\n",
      "13                  Catholic   $10-20k    617\n",
      "14         Dont know/refused   $10-20k     14\n",
      "15         Evangelical Prot    $10-20k    869\n",
      "16                    Hindu    $10-20k      9\n",
      "17  Historically Black Prot    $10-20k    244\n",
      "18         Jehovahs Witness    $10-20k     27\n",
      "19                   Jewish    $10-20k     19\n",
      "20                  Agnostic   $20-30k     60\n",
      "21                   Atheist   $20-30k     37\n",
      "22                  Buddhist   $20-30k     30\n",
      "23                  Catholic   $20-30k    732\n",
      "24         Dont know/refused   $20-30k     15\n",
      "25         Evangelical Prot    $20-30k   1064\n",
      "26                    Hindu    $20-30k      7\n",
      "27  Historically Black Prot    $20-30k    236\n",
      "28         Jehovahs Witness    $20-30k     24\n",
      "29                   Jewish    $20-30k     25\n",
      "30                  Agnostic   $30-40k     81\n",
      "31                   Atheist   $30-40k     52\n",
      "32                  Buddhist   $30-40k     34\n",
      "33                  Catholic   $30-40k    670\n",
      "34         Dont know/refused   $30-40k     11\n",
      "35         Evangelical Prot    $30-40k    982\n",
      "36                    Hindu    $30-40k      9\n",
      "37  Historically Black Prot    $30-40k    238\n",
      "38         Jehovahs Witness    $30-40k     24\n",
      "39                   Jewish    $30-40k     25\n",
      "40                  Agnostic   $40-50k     76\n",
      "41                   Atheist   $40-50k     35\n",
      "42                  Buddhist   $40-50k     33\n",
      "43                  Catholic   $40-50k    638\n",
      "44         Dont know/refused   $40-50k     10\n",
      "45         Evangelical Prot    $40-50k    881\n",
      "46                    Hindu    $40-50k     11\n",
      "47  Historically Black Prot    $40-50k    197\n",
      "48         Jehovahs Witness    $40-50k     21\n",
      "49                   Jewish    $40-50k     30\n",
      "50                  Agnostic   $50-75k    137\n",
      "51                   Atheist   $50-75k     70\n",
      "52                  Buddhist   $50-75k     58\n",
      "53                  Catholic   $50-75k   1116\n",
      "54         Dont know/refused   $50-75k     35\n",
      "55         Evangelical Prot    $50-75k   1486\n",
      "56                    Hindu    $50-75k     34\n",
      "57  Historically Black Prot    $50-75k    223\n",
      "58         Jehovahs Witness    $50-75k     30\n",
      "59                   Jewish    $50-75k     95\n"
     ]
    }
   ],
   "source": [
    "# Use `melt` to organize data\n",
    "df_tidy = pd.melt(\n",
    "    df_pew_research,\n",
    "    id_vars=['religion'],\n",
    "    var_name='income',\n",
    "    value_name='count'\n",
    ")\n",
    "\n",
    "# Display the tidy DataFrame\n",
    "print(\"Tidy DataFrame:\")\n",
    "print(df_tidy)"
   ]
  },
  {
   "cell_type": "code",
   "execution_count": 326,
   "metadata": {},
   "outputs": [
    {
     "name": "stdout",
     "output_type": "stream",
     "text": [
      "\n",
      "Wide DataFrame:\n",
      "income                  religion   $10-20k   $40-50k   <$10k  $20-30k  \\\n",
      "0                       Agnostic      34.0      76.0    27.0     60.0   \n",
      "1                        Atheist      27.0      35.0    12.0     37.0   \n",
      "2                       Buddhist      21.0      33.0    27.0     30.0   \n",
      "3                       Catholic     617.0     638.0   418.0    732.0   \n",
      "4              Dont know/refused      14.0      10.0    15.0     15.0   \n",
      "5              Evangelical Prot      869.0     881.0   575.0   1064.0   \n",
      "6                         Hindu        9.0      11.0     1.0      7.0   \n",
      "7       Historically Black Prot      244.0     197.0   228.0    236.0   \n",
      "8              Jehovahs Witness       27.0      21.0    20.0     24.0   \n",
      "9                        Jewish       19.0      30.0    19.0     25.0   \n",
      "\n",
      "income  $30-40k  $50-75k  \n",
      "0          81.0    137.0  \n",
      "1          52.0     70.0  \n",
      "2          34.0     58.0  \n",
      "3         670.0   1116.0  \n",
      "4          11.0     35.0  \n",
      "5         982.0   1486.0  \n",
      "6           9.0     34.0  \n",
      "7         238.0    223.0  \n",
      "8          24.0     30.0  \n",
      "9          25.0     95.0  \n"
     ]
    }
   ],
   "source": [
    "# Use `pivot_table` to revert wide format\n",
    "df_wide = df_tidy.pivot_table(\n",
    "    index='religion',\n",
    "    columns='income',\n",
    "    values='count'\n",
    ").reset_index()\n",
    "\n",
    "# Display the tidy and wide DataFrame\n",
    "print(\"\\nWide DataFrame:\")\n",
    "print(df_wide)"
   ]
  },
  {
   "attachments": {},
   "cell_type": "markdown",
   "metadata": {},
   "source": [
    "### **Billboard Dataset**"
   ]
  },
  {
   "attachments": {},
   "cell_type": "markdown",
   "metadata": {},
   "source": [
    "This dataset outlines data about the top hit songs on the Billboard list and the week from entrance that it was in the billboard with the ranking."
   ]
  },
  {
   "attachments": {},
   "cell_type": "markdown",
   "metadata": {},
   "source": [
    "1. Read the dataset and store it in a pandas dataframe. Note that the usual utf-8 encoding does not work on this dataset. The reason behind this is that there might be characters that are not supported by `utf-8`.\n",
    "\n",
    "The suggestion is to use for this dataset `unicode_escape` encoding. (converts all non-ASCII characters into their \\uXXXX representations)"
   ]
  },
  {
   "cell_type": "code",
   "execution_count": 327,
   "metadata": {},
   "outputs": [],
   "source": [
    "# Load the Billboard dataset\n",
    "df_billboard = pd.read_csv('data/billboard.csv', encoding='unicode_escape')"
   ]
  },
  {
   "attachments": {},
   "cell_type": "markdown",
   "metadata": {},
   "source": [
    "2. Observe the first few rows of the dataset."
   ]
  },
  {
   "cell_type": "code",
   "execution_count": 328,
   "metadata": {},
   "outputs": [
    {
     "name": "stdout",
     "output_type": "stream",
     "text": [
      "\n",
      "Billboard DataFrame:\n",
      "   year      artist.inverted                                  track  time  \\\n",
      "0  2000      Destiny's Child               Independent Women Part I  3:38   \n",
      "1  2000              Santana                           Maria, Maria  4:18   \n",
      "2  2000        Savage Garden                     I Knew I Loved You  4:07   \n",
      "3  2000              Madonna                                  Music  3:45   \n",
      "4  2000  Aguilera, Christina  Come On Over Baby (All I Want Is You)  3:38   \n",
      "\n",
      "  genre date.entered date.peaked  x1st.week  x2nd.week  x3rd.week  ...  \\\n",
      "0  Rock   2000-09-23  2000-11-18         78       63.0       49.0  ...   \n",
      "1  Rock   2000-02-12  2000-04-08         15        8.0        6.0  ...   \n",
      "2  Rock   1999-10-23  2000-01-29         71       48.0       43.0  ...   \n",
      "3  Rock   2000-08-12  2000-09-16         41       23.0       18.0  ...   \n",
      "4  Rock   2000-08-05  2000-10-14         57       47.0       45.0  ...   \n",
      "\n",
      "   x67th.week  x68th.week  x69th.week  x70th.week  x71st.week  x72nd.week  \\\n",
      "0         NaN         NaN         NaN         NaN         NaN         NaN   \n",
      "1         NaN         NaN         NaN         NaN         NaN         NaN   \n",
      "2         NaN         NaN         NaN         NaN         NaN         NaN   \n",
      "3         NaN         NaN         NaN         NaN         NaN         NaN   \n",
      "4         NaN         NaN         NaN         NaN         NaN         NaN   \n",
      "\n",
      "   x73rd.week  x74th.week  x75th.week  x76th.week  \n",
      "0         NaN         NaN         NaN         NaN  \n",
      "1         NaN         NaN         NaN         NaN  \n",
      "2         NaN         NaN         NaN         NaN  \n",
      "3         NaN         NaN         NaN         NaN  \n",
      "4         NaN         NaN         NaN         NaN  \n",
      "\n",
      "[5 rows x 83 columns]\n"
     ]
    }
   ],
   "source": [
    "# Display the first few rows Billboard DataFrame\n",
    "print(\"\\nBillboard DataFrame:\")\n",
    "print(df_billboard.head())"
   ]
  },
  {
   "attachments": {},
   "cell_type": "markdown",
   "metadata": {},
   "source": [
    "***What is wrong with the above dataset?***"
   ]
  },
  {
   "cell_type": "markdown",
   "metadata": {},
   "source": [
    "In billboard.csv has some problems:\n",
    "\n",
    "(1) `wk1`, `wk2`, `wk3`…  are \"values\" instead of \"variables\"\n",
    "\n",
    "(2) not conform each variable should be a field.\n",
    "\n",
    "(3) This structure is not convenient for analysis and modeling."
   ]
  },
  {
   "attachments": {},
   "cell_type": "markdown",
   "metadata": {},
   "source": [
    "3. Let's, again, use the `melt` function to fix the general structure of the dataframe."
   ]
  },
  {
   "cell_type": "code",
   "execution_count": 329,
   "metadata": {},
   "outputs": [
    {
     "name": "stdout",
     "output_type": "stream",
     "text": [
      "Tidy Billboard columns:\n",
      "Index(['year', 'artist.inverted', 'track', 'time', 'genre', 'date.entered',\n",
      "       'date.peaked', 'x1st.week', 'x2nd.week', 'x3rd.week', 'x4th.week',\n",
      "       'x5th.week', 'x6th.week', 'x7th.week', 'x8th.week', 'x9th.week',\n",
      "       'x10th.week', 'x11th.week', 'x12th.week', 'x13th.week', 'x14th.week',\n",
      "       'x15th.week', 'x16th.week', 'x17th.week', 'x18th.week', 'x19th.week',\n",
      "       'x20th.week', 'x21st.week', 'x22nd.week', 'x23rd.week', 'x24th.week',\n",
      "       'x25th.week', 'x26th.week', 'x27th.week', 'x28th.week', 'x29th.week',\n",
      "       'x30th.week', 'x31st.week', 'x32nd.week', 'x33rd.week', 'x34th.week',\n",
      "       'x35th.week', 'x36th.week', 'x37th.week', 'x38th.week', 'x39th.week',\n",
      "       'x40th.week', 'x41st.week', 'x42nd.week', 'x43rd.week', 'x44th.week',\n",
      "       'x45th.week', 'x46th.week', 'x47th.week', 'x48th.week', 'x49th.week',\n",
      "       'x50th.week', 'x51st.week', 'x52nd.week', 'x53rd.week', 'x54th.week',\n",
      "       'x55th.week', 'x56th.week', 'x57th.week', 'x58th.week', 'x59th.week',\n",
      "       'x60th.week', 'x61st.week', 'x62nd.week', 'x63rd.week', 'x64th.week',\n",
      "       'x65th.week', 'x66th.week', 'x67th.week', 'x68th.week', 'x69th.week',\n",
      "       'x70th.week', 'x71st.week', 'x72nd.week', 'x73rd.week', 'x74th.week',\n",
      "       'x75th.week', 'x76th.week'],\n",
      "      dtype='object')\n",
      "\n",
      "\n",
      "Tidy Billboard tidy columns:\n",
      "Index(['year', 'artist.inverted', 'track', 'time', 'genre', 'date.entered',\n",
      "       'date.peaked', 'week', 'rank'],\n",
      "      dtype='object')\n"
     ]
    }
   ],
   "source": [
    "# Display the columns of the Billboard DataFrame\n",
    "print(\"Tidy Billboard columns:\")\n",
    "print(df_billboard.columns)\n",
    "print(\"\\n\")\n",
    "\n",
    "# Automatically select all week columns\n",
    "week_columns = [col for col in df_billboard.columns if '.week' in col]\n",
    "\n",
    "# Billboard DataFrame to tidy format\n",
    "df_billboard_tidy = pd.melt(\n",
    "    df_billboard,\n",
    "    id_vars=['year', 'artist.inverted', 'track', 'time', 'genre', 'date.entered', 'date.peaked'],\n",
    "    value_vars=week_columns,\n",
    "    var_name='week',\n",
    "    value_name='rank'\n",
    ")\n",
    "print(\"Tidy Billboard tidy columns:\")\n",
    "print(df_billboard_tidy.columns)\n"
   ]
  },
  {
   "attachments": {},
   "cell_type": "markdown",
   "metadata": {},
   "source": [
    "If we inspect the current dataframe. We find that it is structured in a better way than before. \n",
    "\n",
    "However, the ***Week*** column looks a bit ugly!\n",
    "\n",
    "4. Let's try to place only the week number in that column without the extras surronding it."
   ]
  },
  {
   "cell_type": "code",
   "execution_count": 330,
   "metadata": {},
   "outputs": [
    {
     "name": "stdout",
     "output_type": "stream",
     "text": [
      "data type of 'week': object\n",
      "\n",
      "Tidy Billboard DataFrame:\n",
      "       year      artist.inverted                                  track  time  \\\n",
      "0      2000      Destiny's Child               Independent Women Part I  3:38   \n",
      "1      2000              Santana                           Maria, Maria  4:18   \n",
      "2      2000        Savage Garden                     I Knew I Loved You  4:07   \n",
      "3      2000              Madonna                                  Music  3:45   \n",
      "4      2000  Aguilera, Christina  Come On Over Baby (All I Want Is You)  3:38   \n",
      "...     ...                  ...                                    ...   ...   \n",
      "24087  2000     Ghostface Killah                       Cherchez LaGhost  3:04   \n",
      "24088  2000          Smith, Will                            Freakin' It  3:58   \n",
      "24089  2000        Zombie Nation                          Kernkraft 400  3:30   \n",
      "24090  2000       Eastsidaz, The                               Got Beef  3:58   \n",
      "24091  2000               Fragma                         Toca's Miracle  3:22   \n",
      "\n",
      "      genre date.entered date.peaked  week  rank  \n",
      "0      Rock   2000-09-23  2000-11-18     1  78.0  \n",
      "1      Rock   2000-02-12  2000-04-08     1  15.0  \n",
      "2      Rock   1999-10-23  2000-01-29     1  71.0  \n",
      "3      Rock   2000-08-12  2000-09-16     1  41.0  \n",
      "4      Rock   2000-08-05  2000-10-14     1  57.0  \n",
      "...     ...          ...         ...   ...   ...  \n",
      "24087   R&B   2000-08-05  2000-08-05    76   NaN  \n",
      "24088   Rap   2000-02-12  2000-02-12    76   NaN  \n",
      "24089  Rock   2000-09-02  2000-09-02    76   NaN  \n",
      "24090   Rap   2000-07-01  2000-07-01    76   NaN  \n",
      "24091   R&B   2000-10-28  2000-10-28    76   NaN  \n",
      "\n",
      "[24092 rows x 9 columns]\n"
     ]
    }
   ],
   "source": [
    "# Check the data type of 'week' column\n",
    "print(f\"data type of 'week':\", df_billboard_tidy['week'].dtype)\n",
    "\n",
    "# 'week' changes to numeric\n",
    "if df_billboard_tidy['week'].dtype != 'int':\n",
    "    df_billboard_tidy['week'] = df_billboard_tidy['week'].str.extract(r'(\\d+)').astype(int)\n",
    "\n",
    "# Display the tidy Billboard DataFrame\n",
    "print(\"\\nTidy Billboard DataFrame:\")\n",
    "print(df_billboard_tidy)"
   ]
  },
  {
   "attachments": {},
   "cell_type": "markdown",
   "metadata": {},
   "source": [
    "5. Now let's inspect the ***Week*** column in the dataframe."
   ]
  },
  {
   "cell_type": "code",
   "execution_count": 331,
   "metadata": {},
   "outputs": [
    {
     "name": "stdout",
     "output_type": "stream",
     "text": [
      "data type of 'week': int64\n",
      "\n",
      "\n",
      "First few values of 'week':\n",
      "0    1\n",
      "1    1\n",
      "2    1\n",
      "3    1\n",
      "4    1\n",
      "Name: week, dtype: int64\n",
      "\n",
      "\n",
      "Unique values of 'week':\n",
      "[ 1  2  3  4  5  6  7  8  9 10 11 12 13 14 15 16 17 18 19 20 21 22 23 24\n",
      " 25 26 27 28 29 30 31 32 33 34 35 36 37 38 39 40 41 42 43 44 45 46 47 48\n",
      " 49 50 51 52 53 54 55 56 57 58 59 60 61 62 63 64 65 66 67 68 69 70 71 72\n",
      " 73 74 75 76]\n",
      "\n",
      "\n",
      "Statistical summary of 'week':\n",
      "count    24092.000000\n",
      "mean        38.500000\n",
      "std         21.937866\n",
      "min          1.000000\n",
      "25%         19.750000\n",
      "50%         38.500000\n",
      "75%         57.250000\n",
      "max         76.000000\n",
      "Name: week, dtype: float64\n",
      "\n",
      "\n"
     ]
    }
   ],
   "source": [
    "# View the data type of the 'week' column\n",
    "print(f\"data type of 'week': {df_billboard_tidy['week'].dtype}\")\n",
    "print(\"\\n\")\n",
    "\n",
    "# View the first few values ​​of the 'week' column\n",
    "print(\"First few values of 'week':\")\n",
    "print(df_billboard_tidy['week'].head())\n",
    "print(\"\\n\")\n",
    "\n",
    "# View the unique values ​​of the 'week' column (weeks after deduplication)\n",
    "print(\"Unique values of 'week':\")\n",
    "print(df_billboard_tidy['week'].unique())\n",
    "print(\"\\n\")\n",
    "\n",
    "# View the statistical summary of the 'week' column\n",
    "print(\"Statistical summary of 'week':\")\n",
    "print(df_billboard_tidy['week'].describe())\n",
    "print(\"\\n\")"
   ]
  },
  {
   "attachments": {},
   "cell_type": "markdown",
   "metadata": {},
   "source": [
    "Next, let's try to find the date at which the song ranked the number that is shown per row.\n",
    "\n",
    "6. To do that let's first think of the equation that is going to get us the relevant date at which the song ranked the *rth*.\n",
    "\n"
   ]
  },
  {
   "attachments": {},
   "cell_type": "markdown",
   "metadata": {},
   "source": [
    "*Timedeltas are absolute differences in times, expressed in difference units (e.g. days, hours, minutes, seconds). This method converts an argument from a recognized timedelta format / value into a Timedelta type.*\n"
   ]
  },
  {
   "cell_type": "code",
   "execution_count": 332,
   "metadata": {},
   "outputs": [
    {
     "name": "stdout",
     "output_type": "stream",
     "text": [
      "Final Tidy Billboard DataFrame:\n",
      "   year      artist.inverted                                  track  time  \\\n",
      "0  2000      Destiny's Child               Independent Women Part I  3:38   \n",
      "1  2000              Santana                           Maria, Maria  4:18   \n",
      "2  2000        Savage Garden                     I Knew I Loved You  4:07   \n",
      "3  2000              Madonna                                  Music  3:45   \n",
      "4  2000  Aguilera, Christina  Come On Over Baby (All I Want Is You)  3:38   \n",
      "\n",
      "  genre date.entered date.peaked  week  rank       date  \n",
      "0  Rock   2000-09-23  2000-11-18     1  78.0 2000-09-23  \n",
      "1  Rock   2000-02-12  2000-04-08     1  15.0 2000-02-12  \n",
      "2  Rock   1999-10-23  2000-01-29     1  71.0 1999-10-23  \n",
      "3  Rock   2000-08-12  2000-09-16     1  41.0 2000-08-12  \n",
      "4  Rock   2000-08-05  2000-10-14     1  57.0 2000-08-05  \n"
     ]
    }
   ],
   "source": [
    "# Convert 'date.entered' to datetime format\n",
    "df_billboard_tidy['date.entered'] = pd.to_datetime(df_billboard_tidy['date.entered'])\n",
    "\n",
    "# Convert week numbers to days\n",
    "df_billboard_tidy['date'] = df_billboard_tidy['date.entered'] + pd.to_timedelta(df_billboard_tidy['week'] - 1, unit='W')\n",
    "\n",
    "# Display the first few rows of the final tidy Billboard DataFrame\n",
    "print(\"Final Tidy Billboard DataFrame:\")\n",
    "print(df_billboard_tidy.head())"
   ]
  },
  {
   "attachments": {},
   "cell_type": "markdown",
   "metadata": {},
   "source": [
    "***What is the problem with the calculation above?***"
   ]
  },
  {
   "cell_type": "markdown",
   "metadata": {},
   "source": [
    "Here are some problems:\n",
    "\n",
    "(1) The dataset has missing values and abnormal weeks that can impact calculation results.\n",
    "\n",
    "(2) If the `date.entered` of the original data is not the starting day of the chart week for each song. These results will differ from the actual Billboard chart week date"
   ]
  },
  {
   "attachments": {},
   "cell_type": "markdown",
   "metadata": {},
   "source": [
    "7. Let's only keep necessary columns"
   ]
  },
  {
   "cell_type": "code",
   "execution_count": 333,
   "metadata": {},
   "outputs": [],
   "source": [
    "# Keep necessary columns\n",
    "df_billboard_final = df_billboard_tidy[['artist.inverted', 'track', 'week', 'date', 'rank']]"
   ]
  },
  {
   "attachments": {},
   "cell_type": "markdown",
   "metadata": {},
   "source": [
    "8. How to rename your columns?"
   ]
  },
  {
   "cell_type": "code",
   "execution_count": 334,
   "metadata": {},
   "outputs": [],
   "source": [
    "# Rename columns for clarity\n",
    "df_billboard_final = df_billboard_final.copy()\n",
    "df_billboard_final.rename(\n",
    "    columns={\n",
    "        'artist.inverted': 'artist',\n",
    "        'track': 'title',\n",
    "        'week': 'week_number',\n",
    "        'date': 'rank_date'\n",
    "    },\n",
    "    inplace=True\n",
    ")"
   ]
  },
  {
   "attachments": {},
   "cell_type": "markdown",
   "metadata": {},
   "source": [
    "Display the dataframe"
   ]
  },
  {
   "cell_type": "code",
   "execution_count": 336,
   "metadata": {},
   "outputs": [
    {
     "name": "stdout",
     "output_type": "stream",
     "text": [
      "                artist                                  title  week_number  \\\n",
      "0      Destiny's Child               Independent Women Part I            1   \n",
      "1              Santana                           Maria, Maria            1   \n",
      "2        Savage Garden                     I Knew I Loved You            1   \n",
      "3              Madonna                                  Music            1   \n",
      "4  Aguilera, Christina  Come On Over Baby (All I Want Is You)            1   \n",
      "\n",
      "   rank_date  rank  \n",
      "0 2000-09-23  78.0  \n",
      "1 2000-02-12  15.0  \n",
      "2 1999-10-23  71.0  \n",
      "3 2000-08-12  41.0  \n",
      "4 2000-08-05  57.0  \n"
     ]
    }
   ],
   "source": [
    "# Display the Billboard DataFrame\n",
    "print(df_billboard_final.head())"
   ]
  },
  {
   "attachments": {},
   "cell_type": "markdown",
   "metadata": {},
   "source": [
    "In the above dataframe, there are some *NaN* values. What are we going to do? <br/>\n",
    "9. Apply quick data cleaning and then observe the dataset"
   ]
  },
  {
   "cell_type": "code",
   "execution_count": 339,
   "metadata": {},
   "outputs": [
    {
     "name": "stdout",
     "output_type": "stream",
     "text": [
      "NaN summary:\n",
      " artist             0\n",
      "title              0\n",
      "week_number        0\n",
      "rank_date          0\n",
      "rank           18785\n",
      "dtype: int64\n",
      "\n",
      "\n",
      "Cleaned Billboard DataFrame:\n",
      "                artist                                  title  week_number  \\\n",
      "0      Destiny's Child               Independent Women Part I            1   \n",
      "1              Santana                           Maria, Maria            1   \n",
      "2        Savage Garden                     I Knew I Loved You            1   \n",
      "3              Madonna                                  Music            1   \n",
      "4  Aguilera, Christina  Come On Over Baby (All I Want Is You)            1   \n",
      "\n",
      "   rank_date  rank  \n",
      "0 2000-09-23  78.0  \n",
      "1 2000-02-12  15.0  \n",
      "2 1999-10-23  71.0  \n",
      "3 2000-08-12  41.0  \n",
      "4 2000-08-05  57.0  \n",
      "\n",
      "\n",
      "NaN after cleaning:\n",
      " artist         0\n",
      "title          0\n",
      "week_number    0\n",
      "rank_date      0\n",
      "rank           0\n",
      "dtype: int64\n"
     ]
    }
   ],
   "source": [
    "# Check for NaN values in the Billboard final DataFrame\n",
    "nan_summary = df_billboard_final.isna().sum()\n",
    "print(\"NaN summary:\\n\", nan_summary)\n",
    "print(\"\\n\")\n",
    "\n",
    "# Drop rows with NaN values in specific columns\n",
    "df_billboard_final_cleaned = df_billboard_final.dropna(subset=['rank'])\n",
    "\n",
    "# Display the cleaned Billboard DataFrame\n",
    "print(\"Cleaned Billboard DataFrame:\")\n",
    "print(df_billboard_final_cleaned.head())\n",
    "print(\"\\n\")\n",
    "print(\"NaN after cleaning:\\n\", df_billboard_final_cleaned.isna().sum())"
   ]
  },
  {
   "attachments": {},
   "cell_type": "markdown",
   "metadata": {},
   "source": [
    "## **Data Cleaning**\n",
    "\n",
    "Data cleaning involves removing unwanted characters, imputing, or dropping missing values.\n",
    "\n",
    "The decision is based on the dataset you have, and the information you can extract from the other columns.\n",
    "\n",
    "\n",
    "Examples of data cleaning include cleaning:\n",
    "\n",
    "1.   **Missing Data**\n",
    "- Identify missing values: if the value is NaN or blanks, represent missing values.\n",
    "- Can use the statistical methods (mean, median, mode) to fill in missing values or drop rows/columns with excessive missingness.\n",
    "2.   **Irregular Data** (Outliers)\n",
    "- Detect values that are normal or outliers.\n",
    "- Assess outliers whether errors or valid extreme values, then decide to correct, cap, or remove outliers.\n",
    "3.   **Unnecessary Data** — Repetitive Data, Duplicates and more\n",
    "- Delete rows of duplicate, repetitive, or redundant.\n",
    "- Drop columns of useless data analysis or irrelevant identifiers.\n",
    "4.   **Inconsistent Data** — Capitalization, Addresses and more\n",
    "- Standardize text, such as capitalization, spelling.\n",
    "- Normalize formats for dates, categorical values, or addresses.\n",
    "\n",
    "\n",
    "\n",
    "\n",
    "\n",
    "\n"
   ]
  },
  {
   "attachments": {},
   "cell_type": "markdown",
   "metadata": {},
   "source": [
    "### **Cars Data Set**"
   ]
  },
  {
   "attachments": {},
   "cell_type": "markdown",
   "metadata": {},
   "source": [
    "Start by reading the dataset related to car models: ./CSVs/cars.csv"
   ]
  },
  {
   "cell_type": "code",
   "execution_count": 340,
   "metadata": {},
   "outputs": [],
   "source": [
    "# Import library\n",
    "import numpy as np\n",
    "import matplotlib.pyplot as plt"
   ]
  },
  {
   "cell_type": "code",
   "execution_count": 341,
   "metadata": {},
   "outputs": [
    {
     "name": "stdout",
     "output_type": "stream",
     "text": [
      "\n",
      "Cars DataFrame:\n",
      "                         Car     MPG Cylinders Displacement Horsepower  \\\n",
      "0                     STRING  DOUBLE       INT       DOUBLE     DOUBLE   \n",
      "1  Chevrolet Chevelle Malibu     NaN         8        307.0      130.0   \n",
      "2          Buick Skylark 320    15.0         8        350.0        NaN   \n",
      "3         Plymouth Satellite     NaN         8        318.0      150.0   \n",
      "4              AMC Rebel SST    16.0         8          NaN      150.0   \n",
      "\n",
      "   Weight Acceleration Model Origin  \n",
      "0  DOUBLE       DOUBLE   INT    CAT  \n",
      "1   3504.         12.0    70     US  \n",
      "2   3693.         11.5    70     US  \n",
      "3   3436.         11.0    70     US  \n",
      "4     NaN         12.0    70     US  \n"
     ]
    }
   ],
   "source": [
    "# Load the cars dataset\n",
    "df_cars = pd.read_csv('data/cars.csv', delimiter=';')\n",
    "\n",
    "# Display the first few rows of the cars DataFrame\n",
    "print(\"\\nCars DataFrame:\")\n",
    "print(df_cars.head())"
   ]
  },
  {
   "attachments": {},
   "cell_type": "markdown",
   "metadata": {},
   "source": [
    "First Row seems to be the datatype, we need to remove it"
   ]
  },
  {
   "cell_type": "code",
   "execution_count": 342,
   "metadata": {},
   "outputs": [
    {
     "name": "stdout",
     "output_type": "stream",
     "text": [
      "\n",
      "Cleaned Cars DataFrame:\n",
      "                         Car   MPG Cylinders Displacement Horsepower Weight  \\\n",
      "0  Chevrolet Chevelle Malibu   NaN         8        307.0      130.0  3504.   \n",
      "1          Buick Skylark 320  15.0         8        350.0        NaN  3693.   \n",
      "2         Plymouth Satellite   NaN         8        318.0      150.0  3436.   \n",
      "3              AMC Rebel SST  16.0         8          NaN      150.0    NaN   \n",
      "4                Ford Torino  17.0         8        302.0      140.0  3449.   \n",
      "\n",
      "  Acceleration Model Origin  \n",
      "0         12.0    70     US  \n",
      "1         11.5    70     US  \n",
      "2         11.0    70     US  \n",
      "3         12.0    70     US  \n",
      "4         10.5    70     US  \n"
     ]
    }
   ],
   "source": [
    "# Remove the data type description\n",
    "df_cars = df_cars.iloc[1:].reset_index(drop=True)\n",
    "\n",
    "# Display the cleaned cars DataFrame\n",
    "print(\"\\nCleaned Cars DataFrame:\")\n",
    "print(df_cars.head())"
   ]
  },
  {
   "attachments": {},
   "cell_type": "markdown",
   "metadata": {},
   "source": [
    "Let's observe the columns with null values.  Either by using the `isnull().sum()` function "
   ]
  },
  {
   "cell_type": "code",
   "execution_count": 343,
   "metadata": {},
   "outputs": [
    {
     "name": "stdout",
     "output_type": "stream",
     "text": [
      "NaN summary:\n",
      " Car             0\n",
      "MPG             3\n",
      "Cylinders       0\n",
      "Displacement    1\n",
      "Horsepower      2\n",
      "Weight          1\n",
      "Acceleration    0\n",
      "Model           0\n",
      "Origin          0\n",
      "dtype: int64\n"
     ]
    }
   ],
   "source": [
    "# Check for NaN values in the cars DataFrame\n",
    "cars_nan_summary = df_cars.isnull().sum()\n",
    "print(\"NaN summary:\\n\", cars_nan_summary)"
   ]
  },
  {
   "attachments": {},
   "cell_type": "markdown",
   "metadata": {},
   "source": [
    "There aren't many missing values. Let's take a glimpse at the percentage of the missing values:\n",
    "\n",
    "**HINT:** We'll need `Numpy` for the below task."
   ]
  },
  {
   "cell_type": "code",
   "execution_count": 344,
   "metadata": {},
   "outputs": [
    {
     "name": "stdout",
     "output_type": "stream",
     "text": [
      "Missing values ​​percentage:\n",
      " Car             0.00\n",
      "MPG             0.74\n",
      "Cylinders       0.00\n",
      "Displacement    0.25\n",
      "Horsepower      0.49\n",
      "Weight          0.25\n",
      "Acceleration    0.00\n",
      "Model           0.00\n",
      "Origin          0.00\n",
      "dtype: float64\n",
      "\n",
      "\n",
      "Total missing values ​​percentage: 0.19%\n"
     ]
    }
   ],
   "source": [
    "# Calculate the percentage of missing values ​​for each column\n",
    "missing_percentage = (df_cars.isnull().sum() / len(df_cars)) * 100\n",
    "print(\"Missing values ​​percentage:\\n\", np.round(missing_percentage, 2))\n",
    "print(\"\\n\")\n",
    "\n",
    "# Calculate the total missing value ratio for all fields and columns\n",
    "total_cells = np.product(df_cars.shape)\n",
    "total_missing = df_cars.isnull().sum().sum()\n",
    "missing_percentage_total = (total_missing / total_cells) * 100\n",
    "print(\"Total missing values ​​percentage: {:.2f}%\".format(missing_percentage_total))"
   ]
  },
  {
   "attachments": {},
   "cell_type": "markdown",
   "metadata": {},
   "source": [
    "Around *0.19%* of the values are missing, which isn't a lot. Therefore, we might go with the option of dropping all the rows with null values."
   ]
  },
  {
   "cell_type": "code",
   "execution_count": 345,
   "metadata": {},
   "outputs": [
    {
     "name": "stdout",
     "output_type": "stream",
     "text": [
      "NaN summary after dropna:\n",
      " Car             0\n",
      "MPG             0\n",
      "Cylinders       0\n",
      "Displacement    0\n",
      "Horsepower      0\n",
      "Weight          0\n",
      "Acceleration    0\n",
      "Model           0\n",
      "Origin          0\n",
      "dtype: int64\n"
     ]
    }
   ],
   "source": [
    "# Drop rows containing NaN\n",
    "df_cars_drop_rows = df_cars.dropna().reset_index(drop=True)\n",
    "\n",
    "# Check for NaN values in the cars drop rows DataFrame\n",
    "print(\"NaN summary after dropna:\\n\", df_cars_drop_rows.isnull().sum())"
   ]
  },
  {
   "attachments": {},
   "cell_type": "markdown",
   "metadata": {},
   "source": [
    "Lets also check dropping the columns"
   ]
  },
  {
   "cell_type": "code",
   "execution_count": 346,
   "metadata": {},
   "outputs": [
    {
     "name": "stdout",
     "output_type": "stream",
     "text": [
      "NaN summary after dropping columns:\n",
      " Car             0\n",
      "Cylinders       0\n",
      "Acceleration    0\n",
      "Model           0\n",
      "Origin          0\n",
      "dtype: int64\n",
      "\n",
      "DataFrame after dropping columns with NaN:\n",
      "                         Car Cylinders Acceleration Model Origin\n",
      "0  Chevrolet Chevelle Malibu         8         12.0    70     US\n",
      "1          Buick Skylark 320         8         11.5    70     US\n",
      "2         Plymouth Satellite         8         11.0    70     US\n",
      "3              AMC Rebel SST         8         12.0    70     US\n",
      "4                Ford Torino         8         10.5    70     US\n"
     ]
    }
   ],
   "source": [
    "# Drop columns containing NaN\n",
    "df_cars_drop_cols = df_cars.dropna(axis=1).reset_index(drop=True)\n",
    "\n",
    "# Check for NaN values in the cars drop columns DataFrame\n",
    "print(\"NaN summary after dropping columns:\\n\", df_cars_drop_cols.isnull().sum())\n",
    "\n",
    "# Display the processed DataFrame\n",
    "print(\"\\nDataFrame after dropping columns with NaN:\")\n",
    "print(df_cars_drop_cols.head())"
   ]
  },
  {
   "attachments": {},
   "cell_type": "markdown",
   "metadata": {},
   "source": [
    "Let's observe how many columns we lost"
   ]
  },
  {
   "cell_type": "code",
   "execution_count": 347,
   "metadata": {},
   "outputs": [
    {
     "name": "stdout",
     "output_type": "stream",
     "text": [
      "Original number of columns: 9\n",
      "Number of columns remaining after deleting columns containing NaN: 5\n",
      "Number of lost columns: 4\n"
     ]
    }
   ],
   "source": [
    "# Compare the number of columns before and after deletion\n",
    "original_cols = df_cars.shape[1]\n",
    "after_drop_cols = df_cars_drop_cols.shape[1]\n",
    "lost_cols = original_cols - after_drop_cols\n",
    "\n",
    "print(f\"Original number of columns: {original_cols}\")\n",
    "print(f\"Number of columns remaining after deleting columns containing NaN: {after_drop_cols}\")\n",
    "print(f\"Number of lost columns: {lost_cols}\")"
   ]
  },
  {
   "attachments": {},
   "cell_type": "markdown",
   "metadata": {},
   "source": [
    "### **Cars Dataset - Filling in missing values automatically**\n",
    "\n",
    "Another option is to try and fill in the missing values through imputations."
   ]
  },
  {
   "attachments": {},
   "cell_type": "markdown",
   "metadata": {},
   "source": [
    "Let's take the `MPG` column for example. We can fill in the missing values with 0s through the following line of code:\n",
    "\n",
    "`df_cars.fillna(0) `. "
   ]
  },
  {
   "cell_type": "code",
   "execution_count": 348,
   "metadata": {},
   "outputs": [],
   "source": [
    "# Fill NaN values in the 'MPG' column with 0\n",
    "df_cars_filled = df_cars.copy()\n",
    "df_cars_filled['MPG_filled'] = df_cars_filled['MPG'].fillna(0)"
   ]
  },
  {
   "attachments": {},
   "cell_type": "markdown",
   "metadata": {},
   "source": [
    "However, this does not make much sense as there isn't MPG equal to 0. How about we plot the MPG column and if it follows a random distribution we can use the mean of the column to compute the missing values. Otherwise, we can use the median (if there is a skewed normal distribution). However, there might be a better way of imputation which is getting the median or the mean of the MPG of the cars with similar attributes."
   ]
  },
  {
   "cell_type": "code",
   "execution_count": 349,
   "metadata": {},
   "outputs": [
    {
     "name": "stdout",
     "output_type": "stream",
     "text": [
      "data type of MPG: object\n"
     ]
    },
    {
     "data": {
      "image/png": "[encoded data removed]",
      "text/plain": [
       "<Figure size 800x500 with 1 Axes>"
      ]
     },
     "metadata": {},
     "output_type": "display_data"
    }
   ],
   "source": [
    "# Check the data type of the 'MPG'\n",
    "print(\"data type of MPG:\", df_cars_filled['MPG_filled'].dtype)\n",
    "\n",
    "# Convert 'MPG' to numeric, coercing errors to NaN\n",
    "df_cars_filled['MPG_filled'] = pd.to_numeric(df_cars_filled['MPG_filled'], errors='coerce')\n",
    "\n",
    "# Display a histogram of the 'MPG'\n",
    "plt.figure(figsize=(8, 5))\n",
    "df_cars_filled['MPG_filled'].hist(bins=20, edgecolor='black')\n",
    "plt.xlabel('MPG')\n",
    "plt.ylabel('Frequency')\n",
    "plt.title('Distribution of MPG')\n",
    "plt.show()"
   ]
  },
  {
   "cell_type": "markdown",
   "metadata": {},
   "source": [
    "From the histogram of MPG, we can see that most values ​​are concentrated between 10 and 30, indicating a skewed distribution to the right. We can use the median to fill MPG missing values, or use the median of the group (Cylinders and Origin) to fill MPG missing values."
   ]
  },
  {
   "cell_type": "code",
   "execution_count": 350,
   "metadata": {},
   "outputs": [
    {
     "data": {
      "image/png": "[encoded data removed]",
      "text/plain": [
       "<Figure size 800x500 with 1 Axes>"
      ]
     },
     "metadata": {},
     "output_type": "display_data"
    }
   ],
   "source": [
    "# Using the median to fill missing values in 'MPG'\n",
    "df_cars_filled['MPG_imputed_median'] = df_cars_filled['MPG_filled'].fillna(df_cars_filled['MPG_filled'].median())\n",
    "\n",
    "# Display a histogram of the 'MPG'\n",
    "plt.figure(figsize=(8, 5))\n",
    "df_cars_filled['MPG_imputed_median'].hist(bins=20, edgecolor='black')\n",
    "plt.xlabel('MPG')\n",
    "plt.ylabel('Frequency')\n",
    "plt.title('Distribution of MPG')\n",
    "plt.show()"
   ]
  },
  {
   "cell_type": "markdown",
   "metadata": {},
   "source": [
    "Because the missing values < 1%, the distribution of MPG didn't change."
   ]
  },
  {
   "attachments": {},
   "cell_type": "markdown",
   "metadata": {},
   "source": [
    "If we observe the graph above, we can consider it in a way or another normally distributed. Therefore, we can impute the missing values using the mean."
   ]
  },
  {
   "attachments": {},
   "cell_type": "markdown",
   "metadata": {},
   "source": [
    "To compute the mean we need numeric values. However the values in the dataframe are objects. Therefore, we need to change them to numerics so that we can compute them."
   ]
  },
  {
   "cell_type": "code",
   "execution_count": 351,
   "metadata": {},
   "outputs": [],
   "source": [
    "# Convert 'MPG' to numeric, coercing errors to NaN\n",
    "df_cars_filled['MPG_filled'] = pd.to_numeric(df_cars_filled['MPG_filled'], errors='coerce')"
   ]
  },
  {
   "attachments": {},
   "cell_type": "markdown",
   "metadata": {},
   "source": [
    "Now let's see what is the mean of the MPG column"
   ]
  },
  {
   "cell_type": "code",
   "execution_count": 352,
   "metadata": {},
   "outputs": [
    {
     "name": "stdout",
     "output_type": "stream",
     "text": [
      "The average value of the MPG column is: 22.925615763546798\n",
      "\n",
      "\n",
      "describe of MPG: \n",
      " count    406.000000\n",
      "mean      22.925616\n",
      "std        8.615334\n",
      "min        0.000000\n",
      "25%       16.925000\n",
      "50%       22.350000\n",
      "75%       29.000000\n",
      "max       46.600000\n",
      "Name: MPG_filled, dtype: float64\n"
     ]
    }
   ],
   "source": [
    "# Calculate the mean of the 'MPG'\n",
    "mpg_mean = df_cars_filled['MPG_filled'].mean()\n",
    "print(\"The average value of the MPG column is:\", mpg_mean)\n",
    "print(\"\\n\")\n",
    "\n",
    "print(\"describe of MPG: \\n\", df_cars_filled['MPG_filled'].describe())"
   ]
  },
  {
   "attachments": {},
   "cell_type": "markdown",
   "metadata": {},
   "source": [
    "We can use this mean to compute the missing values since the graph demonstarted a normal distribution"
   ]
  },
  {
   "cell_type": "code",
   "execution_count": 353,
   "metadata": {},
   "outputs": [],
   "source": [
    "# Using the mean to fill missing values in 'MPG'\n",
    "df_cars_filled['MPG_imputed_mean'] = df_cars_filled['MPG_filled'].fillna(mpg_mean)"
   ]
  },
  {
   "attachments": {},
   "cell_type": "markdown",
   "metadata": {},
   "source": [
    "### **Car Dataset - Simple Imputer**"
   ]
  },
  {
   "attachments": {},
   "cell_type": "markdown",
   "metadata": {},
   "source": [
    "*SimpleImputer* is a `scikit-learn` class which is helpful in handling the missing data in the predictive model dataset. It replaces the `NaN` values with a specified placeholder.\n",
    "It is implemented by the use of the `SimpleImputer()` method which takes the following arguments :\n",
    "\n",
    "`missing_values` : The missing_values placeholder which has to be imputed. By default is NaN\n",
    "\n",
    "`strategy` : The data which will replace the NaN values from the dataset. The strategy argument can take the values – ‘mean'(default), ‘median’, ‘most_frequent’ and ‘constant’.\n"
   ]
  },
  {
   "attachments": {},
   "cell_type": "markdown",
   "metadata": {},
   "source": [
    "Let's start by importing the `SimpleImputer` into our notebook"
   ]
  },
  {
   "cell_type": "code",
   "execution_count": 354,
   "metadata": {},
   "outputs": [],
   "source": [
    "# Import SimpleImputer from sklearn\n",
    "from sklearn.impute import SimpleImputer"
   ]
  },
  {
   "attachments": {},
   "cell_type": "markdown",
   "metadata": {},
   "source": [
    "What we need to do are two essential steps:\n",
    "\n",
    "1. fit the data (compute the mean / median / most freq)\n",
    "2. transform the data (place the computed values in the NaN cells)"
   ]
  },
  {
   "cell_type": "code",
   "execution_count": 356,
   "metadata": {},
   "outputs": [
    {
     "name": "stdout",
     "output_type": "stream",
     "text": [
      "SimpleImputer DataFrame:\n",
      "                         Car   MPG Cylinders Displacement Horsepower Weight  \\\n",
      "0  Chevrolet Chevelle Malibu   NaN         8        307.0      130.0  3504.   \n",
      "1          Buick Skylark 320  15.0         8        350.0        NaN  3693.   \n",
      "2         Plymouth Satellite   NaN         8        318.0      150.0  3436.   \n",
      "3              AMC Rebel SST  16.0         8          NaN      150.0    NaN   \n",
      "4                Ford Torino  17.0         8        302.0      140.0  3449.   \n",
      "\n",
      "  Acceleration Model Origin  MPG_imputed_mean  MPG_imputed_median  \\\n",
      "0         12.0    70     US         23.096278                22.5   \n",
      "1         11.5    70     US         15.000000                15.0   \n",
      "2         11.0    70     US         23.096278                22.5   \n",
      "3         12.0    70     US         16.000000                16.0   \n",
      "4         10.5    70     US         17.000000                17.0   \n",
      "\n",
      "  MPG_imputed_most_frequent  \n",
      "0                      13.0  \n",
      "1                      15.0  \n",
      "2                      13.0  \n",
      "3                      16.0  \n",
      "4                      17.0  \n"
     ]
    }
   ],
   "source": [
    "# Create a copy of the DataFrame for SimpleImputer\n",
    "df_cars_SimpleImputer = df_cars.copy()\n",
    "\n",
    "# Create a SimpleImputer object with the strategy set to 'mean'\n",
    "imputer_mean = SimpleImputer(missing_values=np.nan, strategy='mean')\n",
    "imputer_median = SimpleImputer(missing_values=np.nan, strategy='median')\n",
    "imputer_most_frequent = SimpleImputer(missing_values=np.nan, strategy='most_frequent')\n",
    "\n",
    "# Only for the 'MPG' column\n",
    "# Must be a 2D array\n",
    "mpg_array = df_cars_SimpleImputer[['MPG']].values \n",
    "# Step 1: Fit the data\n",
    "imputer_mean.fit(mpg_array)\n",
    "imputer_median.fit(mpg_array)\n",
    "imputer_most_frequent.fit(mpg_array)\n",
    "# Step 2: Fill in missing values\n",
    "mpg_filled_mean = imputer_mean.transform(mpg_array)\n",
    "mpg_filled_median = imputer_median.transform(mpg_array)\n",
    "mpg_filled_most_frequent = imputer_most_frequent.transform(mpg_array)\n",
    "\n",
    "# Store the results back to the DataFrame\n",
    "df_cars['MPG_imputed_mean'] = mpg_filled_mean.ravel()\n",
    "df_cars['MPG_imputed_median'] = mpg_filled_median.ravel()\n",
    "df_cars['MPG_imputed_most_frequent'] = mpg_filled_most_frequent.ravel()\n",
    "\n",
    "# Display the first few rows of the SimpleImputer DataFrame\n",
    "print(\"SimpleImputer DataFrame:\")\n",
    "print(df_cars_SimpleImputer.head())"
   ]
  },
  {
   "cell_type": "markdown",
   "metadata": {},
   "source": [
    "## **Outlier Detection** \n",
    "\n",
    "\n",
    "An Outlier is a data-item/object that deviates significantly from the rest of the (so-called normal)objects. They can be caused by measurement or execution errors. The analysis for outlier detection is referred to as outlier mining. There are many ways to detect the outliers, and the removal process is the data frame same as removing a data item from the panda’s data frame.\n",
    "\n",
    "\n",
    "\n",
    "https://www.geeksforgeeks.org/detect-and-remove-the-outliers-using-python/\n",
    "\n",
    "\n",
    "\n"
   ]
  },
  {
   "cell_type": "code",
   "execution_count": 357,
   "metadata": {},
   "outputs": [],
   "source": [
    "# Import libraries and modules\n",
    "import pandas as pd\n",
    "import matplotlib.pyplot as plt\n",
    "import seaborn as sns\n",
    "import numpy as np\n",
    "import seaborn as sns\n",
    "import sklearn\n",
    "from sklearn.datasets import load_diabetes\n",
    "from scipy import stats"
   ]
  },
  {
   "cell_type": "code",
   "execution_count": 358,
   "metadata": {},
   "outputs": [
    {
     "name": "stdout",
     "output_type": "stream",
     "text": [
      "Diabetes DataFrame:\n",
      "        age       sex       bmi        bp        s1        s2        s3  \\\n",
      "0  0.038076  0.050680  0.061696  0.021872 -0.044223 -0.034821 -0.043401   \n",
      "1 -0.001882 -0.044642 -0.051474 -0.026328 -0.008449 -0.019163  0.074412   \n",
      "2  0.085299  0.050680  0.044451 -0.005670 -0.045599 -0.034194 -0.032356   \n",
      "3 -0.089063 -0.044642 -0.011595 -0.036656  0.012191  0.024991 -0.036038   \n",
      "4  0.005383 -0.044642 -0.036385  0.021872  0.003935  0.015596  0.008142   \n",
      "\n",
      "         s4        s5        s6  \n",
      "0 -0.002592  0.019907 -0.017646  \n",
      "1 -0.039493 -0.068332 -0.092204  \n",
      "2 -0.002592  0.002861 -0.025930  \n",
      "3  0.034309  0.022688 -0.009362  \n",
      "4 -0.002592 -0.031988 -0.046641  \n"
     ]
    }
   ],
   "source": [
    "# Load the dataset\n",
    "diabetics = load_diabetes()\n",
    "\n",
    "# Create the dataframe\n",
    "column_name = diabetics.feature_names\n",
    "df_diabetics = pd.DataFrame(diabetics.data)\n",
    "df_diabetics.columns = column_name\n",
    "\n",
    "# Display the first few rows of the diabetes DataFrame\n",
    "print(\"Diabetes DataFrame:\")\n",
    "print(df_diabetics.head())"
   ]
  },
  {
   "cell_type": "markdown",
   "metadata": {},
   "source": [
    "### Outliers Visualization"
   ]
  },
  {
   "cell_type": "markdown",
   "metadata": {},
   "source": [
    "#### Visualizing Outliers Using Box Plot\n",
    "It captures the summary of the data effectively and efficiently with only a simple box and whiskers. Boxplot summarizes sample data using 25th, 50th, and 75th percentiles. One can just get insights(quartiles, median, and outliers) into the dataset by just looking at its boxplot."
   ]
  },
  {
   "cell_type": "code",
   "execution_count": 359,
   "metadata": {},
   "outputs": [
    {
     "data": {
      "text/plain": [
       "Text(0.5, 1.0, 'Original Box Plot of bmi')"
      ]
     },
     "execution_count": 359,
     "metadata": {},
     "output_type": "execute_result"
    },
    {
     "data": {
      "image/png": "[encoded data removed]",
      "text/plain": [
       "<Figure size 640x480 with 1 Axes>"
      ]
     },
     "metadata": {},
     "output_type": "display_data"
    }
   ],
   "source": [
    "# Box Plot\n",
    "sns.boxplot(df_diabetics['bmi'])\n",
    "plt.title(f'Original Box Plot of bmi')"
   ]
  },
  {
   "cell_type": "markdown",
   "metadata": {},
   "source": [
    "We can see that the circle points (values above 10) are outliers. Next step, remove these outliers."
   ]
  },
  {
   "cell_type": "code",
   "execution_count": 360,
   "metadata": {},
   "outputs": [
    {
     "data": {
      "image/png": "[encoded data removed]",
      "text/plain": [
       "<Figure size 640x480 with 1 Axes>"
      ]
     },
     "metadata": {},
     "output_type": "display_data"
    }
   ],
   "source": [
    "# Define remove outliers function\n",
    "def removal_box_plot(df, column, threshold):\n",
    "    removed_outliers = df[df[column] <= threshold]\n",
    "\n",
    "    sns.boxplot(removed_outliers[column])\n",
    "    plt.title(f'Box Plot without Outliers of {column}')\n",
    "    plt.show()\n",
    "    return removed_outliers\n",
    "\n",
    "threshold_value = 0.12\n",
    "\n",
    "no_outliers = removal_box_plot(df_diabetics, 'bmi', threshold_value)"
   ]
  },
  {
   "cell_type": "markdown",
   "metadata": {},
   "source": [
    "These outliers of greater than or equal to 0.12 have already been removed from this graph."
   ]
  },
  {
   "cell_type": "markdown",
   "metadata": {},
   "source": [
    "#### Visualizing Outliers Using ScatterPlot.\n",
    "\n",
    "It is used when you have paired numerical data and when your dependent variable has multiple values for each reading independent variable, or when trying to determine the relationship between the two variables. In the process of utilizing the scatter plot, one can also use it for outlier detection."
   ]
  },
  {
   "cell_type": "code",
   "execution_count": 361,
   "metadata": {},
   "outputs": [
    {
     "data": {
      "image/png": "[encoded data removed]",
      "text/plain": [
       "<Figure size 600x400 with 1 Axes>"
      ]
     },
     "metadata": {},
     "output_type": "display_data"
    }
   ],
   "source": [
    "fig, ax = plt.subplots(figsize=(6, 4))\n",
    "ax.scatter(df_diabetics['bmi'], df_diabetics['bp'])\n",
    "ax.set_xlabel('(body mass index of people)')\n",
    "ax.set_ylabel('(bp of the people )')\n",
    "plt.title(f'Original ScatterPlot of bmi vs. bp')\n",
    "plt.show()"
   ]
  },
  {
   "cell_type": "markdown",
   "metadata": {},
   "source": [
    "From the graph, most of the data points are in the bottom left corner. Only a few data points are in the top right corner, which represent outliers."
   ]
  },
  {
   "cell_type": "code",
   "execution_count": 362,
   "metadata": {},
   "outputs": [
    {
     "data": {
      "image/png": "[encoded data removed]",
      "text/plain": [
       "<Figure size 600x400 with 1 Axes>"
      ]
     },
     "metadata": {},
     "output_type": "display_data"
    }
   ],
   "source": [
    "# Remove outliers\n",
    "outlier_indices = np.where((df_diabetics['bmi'] > 0.12) & (df_diabetics['bp'] < 0.8))\n",
    "no_outliers = df_diabetics.drop(outlier_indices[0])\n",
    "\n",
    "# Scatter plot without outliers\n",
    "fig, ax_no_outliers = plt.subplots(figsize=(6, 4))\n",
    "ax_no_outliers.scatter(no_outliers['bmi'], no_outliers['bp'])\n",
    "ax_no_outliers.set_xlabel('(body mass index of people)')\n",
    "ax_no_outliers.set_ylabel('(bp of the people )')\n",
    "plt.show()"
   ]
  },
  {
   "cell_type": "markdown",
   "metadata": {},
   "source": [
    "Using NumPy's np.where() function to find the bmi > 0.12 and bp < 0.8 outliers. When these outliers are removed, the data points are relatively concentrated."
   ]
  },
  {
   "cell_type": "markdown",
   "metadata": {},
   "source": [
    "#### Z-Score:\n",
    "Z- Score is also called a standard score. This value/score helps to understand that how far is the data point from the mean. And after setting up a threshold value one can utilize z score values of data points to define the outliers.\n",
    "<br>\n",
    "Zscore = (data_point -mean) / std. deviation\n",
    "\n"
   ]
  },
  {
   "cell_type": "code",
   "execution_count": 363,
   "metadata": {},
   "outputs": [
    {
     "name": "stdout",
     "output_type": "stream",
     "text": [
      "Z-scores of 'age':\n",
      "  0      0.800500\n",
      "1      0.039567\n",
      "2      1.793307\n",
      "3      1.872441\n",
      "4      0.113172\n",
      "         ...   \n",
      "437    0.876870\n",
      "438    0.115937\n",
      "439    0.876870\n",
      "440    0.956004\n",
      "441    0.956004\n",
      "Name: age, Length: 442, dtype: float64\n"
     ]
    }
   ],
   "source": [
    "# Use SciPy stats module to calculate z-scores\n",
    "z = np.abs(stats.zscore(df_diabetics['age']))\n",
    "print(\"Z-scores of 'age':\\n \", z)"
   ]
  },
  {
   "cell_type": "markdown",
   "metadata": {},
   "source": [
    "Now to define an outlier threshold value is chosen which is generally 3.0. As 99.7% of the data points lie between +/- 3 standard deviation (using Gaussian Distribution approach).\n",
    "\n",
    "Rows where Z value is greater than 2"
   ]
  },
  {
   "cell_type": "code",
   "execution_count": 364,
   "metadata": {},
   "outputs": [
    {
     "name": "stdout",
     "output_type": "stream",
     "text": [
      "Original DataFrame Shape: (442, 10)\n",
      "DataFrame Shape after Removing Outliers: (426, 10)\n"
     ]
    }
   ],
   "source": [
    "# Set a threshold for z-scores\n",
    "threshold_z = 2\n",
    "\n",
    "# Identify outliers based on z-scores\n",
    "outlier_indices = np.where(z > threshold_z)[0]\n",
    "no_outliers = df_diabetics.drop(outlier_indices)\n",
    "print(\"Original DataFrame Shape:\", df_diabetics.shape)\n",
    "print(\"DataFrame Shape after Removing Outliers:\", no_outliers.shape)"
   ]
  },
  {
   "cell_type": "markdown",
   "metadata": {},
   "source": [
    "Set a threshold value of 2 and NumPy's np.where() to identify the positions. If age > 2, represent outliers. Then removed these outliers in the Z-score array."
   ]
  },
  {
   "cell_type": "markdown",
   "metadata": {},
   "source": [
    "#### IQR (Inter-Quartile Range)\n",
    "Inter Quartile Range approach to finding the outliers is the most commonly used and most trusted approach used in the research field. <Br>\n",
    "IQR = Quartile3 - Quartile1"
   ]
  },
  {
   "cell_type": "code",
   "execution_count": 365,
   "metadata": {},
   "outputs": [
    {
     "name": "stdout",
     "output_type": "stream",
     "text": [
      "IRQ: 0.06520763046978838\n"
     ]
    }
   ],
   "source": [
    "# Set Q1 and Q3 for IQR calculation\n",
    "Q1 = np.percentile(df_diabetics['bmi'], 25, method='midpoint')\n",
    "Q3 = np.percentile(df_diabetics['bmi'], 75, method='midpoint')\n",
    "\n",
    "# Calculate IQR\n",
    "IQR = Q3 - Q1\n",
    "print(\"IRQ:\",IQR)"
   ]
  },
  {
   "cell_type": "markdown",
   "metadata": {},
   "source": [
    "To define the outlier base value is defined above and below dataset’s normal range namely Upper and Lower bounds, define the upper and the lower bound (1.5*IQR value is considered) :<br>\n",
    "upper = Q3 + 1.5 * IQR <br>\n",
    "lower = Q1 - 1.5 * IQR <br> "
   ]
  },
  {
   "cell_type": "code",
   "execution_count": 366,
   "metadata": {},
   "outputs": [
    {
     "name": "stdout",
     "output_type": "stream",
     "text": [
      "Upper Bound: 0.12879000811776306\n",
      "Sum of Upper Bound:  3\n",
      "\n",
      "\n",
      "Lower Bound: -0.13204051376139045\n",
      "Sum of Lower Bound:  0\n"
     ]
    }
   ],
   "source": [
    "# Above Upper bound\n",
    "upper = Q3+1.5*IQR\n",
    "upper_array = np.array(df_diabetics['bmi'] >= upper)\n",
    "print(\"Upper Bound:\", upper)\n",
    "print(\"Sum of Upper Bound: \", upper_array.sum())\n",
    "print(\"\\n\")\n",
    "\n",
    "# Below Lower bound\n",
    "lower = Q1-1.5*IQR\n",
    "lower_array = np.array(df_diabetics['bmi'] <= lower)\n",
    "print(\"Lower Bound:\", lower)\n",
    "print(\"Sum of Lower Bound: \", lower_array.sum())"
   ]
  },
  {
   "cell_type": "markdown",
   "metadata": {},
   "source": [
    "- Removing the outliers:\n",
    "For removing the outlier, one must follow the same process of removing an entry from the dataset using its exact position in the dataset because in all the above methods of detecting the outliers end result is the list of all those data items that satisfy the outlier definition according to the method used."
   ]
  },
  {
   "cell_type": "code",
   "execution_count": 367,
   "metadata": {},
   "outputs": [
    {
     "name": "stdout",
     "output_type": "stream",
     "text": [
      "Old Shape:  (442, 10)\n",
      "New Shape:  (439, 10)\n"
     ]
    }
   ],
   "source": [
    "# Load the dataset\n",
    "diabetes = load_diabetes()\n",
    "\n",
    "# Create the dataframe\n",
    "column_name = diabetes.feature_names\n",
    "df_diabetes = pd.DataFrame(diabetes.data)\n",
    "df_diabetes .columns = column_name\n",
    "df_diabetes .head()\n",
    "print(\"Old Shape: \", df_diabetes.shape)\n",
    "\n",
    "''' Detection '''\n",
    "# IQR\n",
    "# Calculate the upper and lower limits\n",
    "Q1 = df_diabetes['bmi'].quantile(0.25)\n",
    "Q3 = df_diabetes['bmi'].quantile(0.75)\n",
    "IQR = Q3 - Q1\n",
    "lower = Q1 - 1.5*IQR\n",
    "upper = Q3 + 1.5*IQR\n",
    "\n",
    "# Create arrays of Boolean values indicating the outlier rows\n",
    "upper_array = np.where(df_diabetes['bmi'] >= upper)[0]\n",
    "lower_array = np.where(df_diabetes['bmi'] <= lower)[0]\n",
    "\n",
    "# Removing the outliers\n",
    "df_diabetes.drop(index=upper_array, inplace=True)\n",
    "df_diabetes.drop(index=lower_array, inplace=True)\n",
    "\n",
    "# Print the new shape of the DataFrame\n",
    "print(\"New Shape: \", df_diabetes.shape)"
   ]
  },
  {
   "cell_type": "markdown",
   "metadata": {},
   "source": [
    "### Conclusion\n",
    "- Box plots and scatter plots can be used to visualize outliers.\n",
    "- Z-scores and Inter Quartile Range (IQR) using math approaches to identify outliers."
   ]
  }
 ],
 "metadata": {
  "kernelspec": {
   "display_name": "base",
   "language": "python",
   "name": "python3"
  },
  "language_info": {
   "codemirror_mode": {
    "name": "ipython",
    "version": 3
   },
   "file_extension": ".py",
   "mimetype": "text/x-python",
   "name": "python",
   "nbconvert_exporter": "python",
   "pygments_lexer": "ipython3",
   "version": "3.12.7"
  },
  "orig_nbformat": 4
 },
 "nbformat": 4,
 "nbformat_minor": 2
}
